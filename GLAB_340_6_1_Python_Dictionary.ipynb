{
  "nbformat": 4,
  "nbformat_minor": 0,
  "metadata": {
    "colab": {
      "provenance": [],
      "include_colab_link": true
    },
    "kernelspec": {
      "name": "python3",
      "display_name": "Python 3"
    },
    "language_info": {
      "name": "python"
    }
  },
  "cells": [
    {
      "cell_type": "markdown",
      "metadata": {
        "id": "view-in-github",
        "colab_type": "text"
      },
      "source": [
        "<a href=\"https://colab.research.google.com/github/Nasseima/GLAB340.6.1-PythonDictionary/blob/main/GLAB_340_6_1_Python_Dictionary.ipynb\" target=\"_parent\"><img src=\"https://colab.research.google.com/assets/colab-badge.svg\" alt=\"Open In Colab\"/></a>"
      ]
    },
    {
      "cell_type": "markdown",
      "source": [
        "#**Guided LAB - 340.6.1 - Python Dictionary**\n",
        "\n",
        "---\n",
        "\n"
      ],
      "metadata": {
        "id": "iU_1G2_7GNqo"
      }
    },
    {
      "cell_type": "markdown",
      "source": [
        "# **Learning Objective**\n",
        "By the end of this lab, Learner will be able to create a function and utilize the dictionay with in the function."
      ],
      "metadata": {
        "id": "sWm2WnSFGn54"
      }
    },
    {
      "cell_type": "markdown",
      "source": [
        "## Example 1: Using dictionary methods:\n",
        "\n",
        "The objective of this Python code is to define a function called network that accepts a dictionary named servers as a parameter. The function's purpose is to iterate through the items (key-value pairs) in the dictionary and generate a string that describes the hostname and IP address of each server. The code aims to demonstrate how to work with dictionaries and generate descriptive strings, and it provides an example by calling the function with a dictionary and printing the result.\n"
      ],
      "metadata": {
        "id": "emq7Qd7cEGS6"
      }
    },
    {
      "cell_type": "code",
      "source": [
        "# The network() function accepts a dictionary \"servers\" as a parameter.\n",
        "def network(servers):\n",
        "\n",
        "    # A string variable is initialized to hold the \"result\".\n",
        "    result = \"\"\n",
        "\n",
        "    # For each \"hostname\" (key) and \"IP address\" (value) in the \"server\" dictionary items...\n",
        "    for hostname, IP_address in servers.items():\n",
        "\n",
        "        # A string identifying the hostname and IP address for each server is added\n",
        "        # to the \"result\" variable. The string .format() function and is used to plug\n",
        "        # the hostname and IP_address variables into the designated {} placeholders\n",
        "        # within the string.\n",
        "        result += \"The IP address of the {} server is {}\".format(hostname, IP_address) + \"\\n\"\n",
        "\n",
        "    # Return the \"result\" variable string.\n",
        "    return result\n",
        "\n",
        "# Call the \"network\" function with the dictionary.\n",
        "print(network({\"Domain Name Server\":\"8.8.8.8\", \"Gateway Server\":\"192.168.1.1\", \"Print Server\":\"192.168.1.33\", \"Mail Server\":\"192.168.1.190\"}))\n",
        "\n",
        "# Should print:\n",
        "# The IP address of the Domain Name Server server is 8.8.8.8\n",
        "# The IP address of the Gateway Server server is 192.168.1.1\n",
        "# The IP address of the Print Server server is 192.168.1.33\n",
        "# The IP address of the Mail Server server is 192.168.1.190\n"
      ],
      "metadata": {
        "id": "g3okUg3tEmXN",
        "colab": {
          "base_uri": "https://localhost:8080/"
        },
        "outputId": "35c14db8-0e93-4b0d-dd2c-70f78a3ce8e5"
      },
      "execution_count": null,
      "outputs": [
        {
          "output_type": "stream",
          "name": "stdout",
          "text": [
            "The IP address of the Domain Name Server server is 8.8.8.8\n",
            "The IP address of the Gateway Server server is 192.168.1.1\n",
            "The IP address of the Print Server server is 192.168.1.33\n",
            "The IP address of the Mail Server server is 192.168.1.190\n",
            "\n"
          ]
        }
      ]
    },
    {
      "cell_type": "markdown",
      "source": [
        "**##Explanation:**\n",
        "\n",
        "The network function is a practical example of how to work with dictionaries and string formatting to create descriptive information. It's designed to provide information about servers and their IP addresses.\n",
        "\n",
        "**Let's break down the code step by step:**\n",
        "\n",
        "**def network(servers):**: This line defines a function named network that takes a single parameter, servers, which is expected to be a dictionary containing server names (hostnames) as keys and their corresponding IP addresses as values.\n",
        "\n",
        "**result = \"\":** Inside the function, a string variable named result is initialized to hold the final result, which will be a string describing the servers and their IP addresses.\n",
        "\n",
        "The code then enters a loop using a for loop to iterate through the items in the servers dictionary. For each item (hostname and IP address), the following actions are performed:\n",
        "\n",
        "**for hostname, IP_address in servers.items():** iterates over each key-value pair in the servers dictionary.\n",
        "\n",
        "**result += \"** The IP address of the {} server is {}\".format(hostname, IP_address) + \"\\n\": For each server, a string is constructed using the format method to include the hostname and IP address within a template string. The result is appended to the result string. The + \"\\n\" at the end adds a newline character to separate each server's information.\n",
        "\n",
        "After iterating through all servers in the dictionary, the result string contains descriptions of all the servers with their respective IP addresses.\n",
        "\n",
        "**return result:** The function returns the result string.\n",
        "\n",
        "**print(network({\"Domain Name Server\": \"8.8.8.8\", \"Gateway Server\": \"192.168.1.1\", ...})):** The code calls the network function with a dictionary containing server names and IP addresses. The result is printed, which should be the server descriptions."
      ],
      "metadata": {
        "id": "uYSyt-rcEzGA"
      }
    },
    {
      "cell_type": "markdown",
      "source": [
        "The above code is useful for generating server information reports and can be\n",
        "applied in various scenarios where structured descriptions of items are needed.\n",
        "\n",
        "\n",
        "\n",
        "---\n",
        "\n"
      ],
      "metadata": {
        "id": "Knf3LirQFOz6"
      }
    }
  ]
}